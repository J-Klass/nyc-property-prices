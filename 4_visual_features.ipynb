{
 "cells": [
  {
   "cell_type": "markdown",
   "metadata": {},
   "source": [
    "# Visual Features <a class=\"tocSkip\">"
   ]
  },
  {
   "cell_type": "code",
   "execution_count": null,
   "metadata": {},
   "outputs": [],
   "source": [
    "# Loading useful extensions\n",
    "%load_ext autoreload\n",
    "%autoreload\n",
    "%load_ext nb_black\n",
    "%matplotlib inline"
   ]
  },
  {
   "cell_type": "code",
   "execution_count": null,
   "metadata": {},
   "outputs": [],
   "source": [
    "# Import packages\n",
    "import warnings\n",
    "\n",
    "import matplotlib.pyplot as plt\n",
    "import numpy as np\n",
    "import pandas as pd\n",
    "import seaborn as sns\n",
    "from sklearn.ensemble import RandomForestClassifier, RandomForestRegressor\n",
    "from sklearn.metrics import (\n",
    "    accuracy_score,\n",
    "    classification_report,\n",
    "    confusion_matrix,\n",
    "    f1_score,\n",
    "    mean_absolute_error,\n",
    "    mean_squared_error,\n",
    ")\n",
    "from sklearn.model_selection import GridSearchCV, cross_val_score, train_test_split\n",
    "from sklearn.neural_network import MLPClassifier\n",
    "from sklearn.preprocessing import LabelEncoder, StandardScaler\n",
    "\n",
    "warnings.filterwarnings(\"ignore\")"
   ]
  },
  {
   "cell_type": "markdown",
   "metadata": {},
   "source": [
    "# Load Data"
   ]
  },
  {
   "cell_type": "code",
   "execution_count": null,
   "metadata": {},
   "outputs": [],
   "source": [
    "# Read the visual data\n",
    "df_vis = pd.read_csv(\"sales_data_2015_DF-inception-conv.csv\")\n",
    "# Delete unused columns\n",
    "df_vis = df_vis.copy().drop([\"bbl_id\", \"Unnamed: 0\"], axis=1)\n",
    "\n",
    "# Read the regular data\n",
    "df_reg = pd.read_csv(\"df_reg.csv\")\n",
    "del df_reg[\"Unnamed: 0\"]\n",
    "\n",
    "# Read the complete dataset\n",
    "df_complete = pd.read_csv(\"df_eda.csv\")\n",
    "del df_complete[\"Unnamed: 0\"]"
   ]
  },
  {
   "cell_type": "code",
   "execution_count": null,
   "metadata": {},
   "outputs": [],
   "source": [
    "# Mergin the two data sets\n",
    "df_vis_reg = pd.merge(df_reg, df_vis, on=\"Sale_id\", how=\"inner\")\n",
    "# Drop Sale_id\n",
    "del df_vis_reg[\"Sale_id\"]"
   ]
  },
  {
   "cell_type": "code",
   "execution_count": null,
   "metadata": {},
   "outputs": [],
   "source": [
    "# Mergin the two data sets\n",
    "df_complete = df_complete[[\"Sale_id\", \"borough\"]]\n",
    "df_vis_classification = pd.merge(df_complete, df_vis, on=\"Sale_id\", how=\"inner\")\n",
    "# Drop Sale_id\n",
    "del df_vis_classification[\"Sale_id\"]"
   ]
  },
  {
   "cell_type": "markdown",
   "metadata": {},
   "source": [
    "# Rerunning the Regression"
   ]
  },
  {
   "cell_type": "code",
   "execution_count": null,
   "metadata": {},
   "outputs": [],
   "source": [
    "# Import regression models\n",
    "%run regression_models.py"
   ]
  },
  {
   "cell_type": "code",
   "execution_count": null,
   "metadata": {},
   "outputs": [],
   "source": [
    "y_vis = df_vis_reg.pop(\"price\")\n",
    "X_vis = df_vis_reg\n",
    "X_train_vis, X_test_vis, y_train_vis, y_test_vis = train_test_split(\n",
    "    X_vis, y_vis, test_size=0.20, random_state=43\n",
    ")"
   ]
  },
  {
   "cell_type": "code",
   "execution_count": null,
   "metadata": {},
   "outputs": [],
   "source": [
    "summary = pd.DataFrame(\n",
    "    [\n",
    "        linear_regression(X_train_vis, y_train_vis, X_test_vis, y_test_vis, False),\n",
    "        lasso_regression(X_train_vis, y_train_vis, X_test_vis, y_test_vis, False),\n",
    "        ridge_regression(X_train_vis, y_train_vis, X_test_vis, y_test_vis, False),\n",
    "        random_forest_regression(\n",
    "            X_train_vis, y_train_vis, X_test_vis, y_test_vis, False\n",
    "        ),\n",
    "    ]\n",
    ")\n",
    "summary.sort_values(\"R squared\")"
   ]
  },
  {
   "cell_type": "markdown",
   "metadata": {},
   "source": [
    "# Classification Model"
   ]
  },
  {
   "cell_type": "markdown",
   "metadata": {},
   "source": [
    "## Classification of \"borough\""
   ]
  },
  {
   "cell_type": "code",
   "execution_count": null,
   "metadata": {},
   "outputs": [],
   "source": [
    "def random_forest(X_train, y_train, X_test, y_test):\n",
    "    \"\"\"\n",
    "    Random Forest for classification\n",
    "    \"\"\"\n",
    "    # Use a full grid over all parameters\n",
    "    parameters = {\n",
    "        \"n_estimators\": [10, 20, 30],\n",
    "        \"criterion\": [\"gini\", \"entropy\"],\n",
    "        \"bootstrap\": [True, False],\n",
    "    }\n",
    "    grid_clf = GridSearchCV(\n",
    "        RandomForestClassifier(), parameters, scoring=\"accuracy\", cv=5, n_jobs=-1\n",
    "    )\n",
    "    grid_clf.fit(X_train, y_train)\n",
    "\n",
    "    clf = grid_clf.best_estimator_\n",
    "\n",
    "    clf.fit(X_train, y_train)\n",
    "    y_pred = clf.predict(X_test)\n",
    "\n",
    "    print(accuracy_score(y_test, y_pred))"
   ]
  },
  {
   "cell_type": "code",
   "execution_count": null,
   "metadata": {},
   "outputs": [],
   "source": [
    "# Label Encoding\n",
    "df_vis_classification = df_vis_classification.dropna()\n",
    "df_vis_classification[\"label\"] = LabelEncoder().fit_transform(\n",
    "    df_vis_classification[\"borough\"]\n",
    ")\n",
    "del df_vis_classification[\"borough\"]\n",
    "\n",
    "# Define Target\n",
    "X_clas = df_vis_classification.drop(\"label\", axis=1)\n",
    "y_clas = df_vis_classification[[\"label\"]]\n",
    "\n",
    "# Split into training and testing set\n",
    "X_train_clas, X_test_clas, y_train_clas, y_test_clas = train_test_split(\n",
    "    X_clas, y_clas, test_size=0.2\n",
    ")\n",
    "\n",
    "# Run RF\n",
    "random_forest(X_train_clas, y_train_clas, X_test_clas, y_test_clas)"
   ]
  }
 ],
 "metadata": {
  "kernelspec": {
   "display_name": "Python 3",
   "language": "python",
   "name": "python3"
  },
  "language_info": {
   "codemirror_mode": {
    "name": "ipython",
    "version": 3
   },
   "file_extension": ".py",
   "mimetype": "text/x-python",
   "name": "python",
   "nbconvert_exporter": "python",
   "pygments_lexer": "ipython3",
   "version": "3.7.3"
  },
  "toc": {
   "base_numbering": 1,
   "nav_menu": {},
   "number_sections": true,
   "sideBar": true,
   "skip_h1_title": false,
   "title_cell": "Table of Contents",
   "title_sidebar": "Contents",
   "toc_cell": false,
   "toc_position": {},
   "toc_section_display": true,
   "toc_window_display": false
  }
 },
 "nbformat": 4,
 "nbformat_minor": 2
}
