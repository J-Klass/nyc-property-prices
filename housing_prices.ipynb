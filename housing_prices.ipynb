{
 "cells": [
  {
   "cell_type": "markdown",
   "metadata": {},
   "source": [
    "# Analysis of the New York City Property Prices Dataset <a class=\"tocSkip\">"
   ]
  },
  {
   "cell_type": "code",
   "execution_count": null,
   "metadata": {},
   "outputs": [],
   "source": [
    "# Loading useful extensions\n",
    "%load_ext autoreload\n",
    "%autoreload\n",
    "%load_ext nb_black\n",
    "%matplotlib inline"
   ]
  },
  {
   "cell_type": "code",
   "execution_count": null,
   "metadata": {},
   "outputs": [],
   "source": [
    "# Import packages\n",
    "import matplotlib.pyplot as plt\n",
    "import numpy as np\n",
    "import pandas as pd\n",
    "from sklearn.model_selection import train_test_split\n",
    "from sklearn.linear_model import Lasso, LassoCV, LinearRegression, Ridge, RidgeCV"
   ]
  },
  {
   "cell_type": "markdown",
   "metadata": {},
   "source": [
    "# Load data"
   ]
  },
  {
   "cell_type": "code",
   "execution_count": null,
   "metadata": {},
   "outputs": [],
   "source": [
    "df = pd.read_csv(\"sales_data_2015.csv\")"
   ]
  },
  {
   "cell_type": "markdown",
   "metadata": {},
   "source": [
    "## EDA"
   ]
  },
  {
   "cell_type": "markdown",
   "metadata": {},
   "source": [
    "The data has 26 dimensions, which are listed below. Some of the attribute names are quite ambiguous, such are the codes for tax and building classes. For more information you can have a look at\n",
    "https://www1.nyc.gov/assets/finance/downloads/pdf/07pdf/glossary_rsf071607.pdf\n",
    "and\n",
    "https://www1.nyc.gov/assets/finance/jump/hlpbldgcode.html ."
   ]
  },
  {
   "cell_type": "code",
   "execution_count": null,
   "metadata": {},
   "outputs": [],
   "source": [
    "# Checking for NaN values\n",
    "df.isna().sum().sort_values(ascending=False)"
   ]
  },
  {
   "cell_type": "code",
   "execution_count": null,
   "metadata": {},
   "outputs": [],
   "source": [
    "# Dimension of the data\n",
    "df.shape"
   ]
  },
  {
   "cell_type": "markdown",
   "metadata": {},
   "source": [
    "## Data Cleaning"
   ]
  },
  {
   "cell_type": "code",
   "execution_count": null,
   "metadata": {},
   "outputs": [],
   "source": [
    "def general_data_cleaning(df):\n",
    "    \"\"\"\n",
    "    Cleaning the data set by deleting unused columns and filtering columns for unrealistic data\n",
    "    \"\"\"\n",
    "    # Deleting 0 values from the data set\n",
    "    df = df[(df.yr_built != 0) & (df.tot_sqft != 0) & (df.price != 0)]\n",
    "    # Deleting columns that are mostly NaN values and unused columns\n",
    "    df = df.copy().drop([\"easmnt\", \"apt\", \"Unnamed: 0\", \"Sale_id\", \"usable\"], axis=1)\n",
    "    # Drop nan values and reseting the index\n",
    "    df = df.dropna()\n",
    "    df = df.reset_index(drop=True)\n",
    "    # Filter prices that are lower than 100\n",
    "    df = df[(df.price > 100)]\n",
    "    return df"
   ]
  },
  {
   "cell_type": "code",
   "execution_count": null,
   "metadata": {},
   "outputs": [],
   "source": [
    "def regression_data_cleaning(df):\n",
    "    \"\"\"\n",
    "    Cleaning data for regression models by removing unusable models and on hot encoding categorical variables\n",
    "    \"\"\"\n",
    "    # General data cleaning first\n",
    "    df = general_data_cleaning(df)\n",
    "    # removing unused columns\n",
    "    df = df.copy().drop(\n",
    "        [\n",
    "            \"bbl_id\",\n",
    "            \"address\",\n",
    "            \"sale_date\",\n",
    "            \"long\",\n",
    "            \"lat\",\n",
    "            \"bldg_ctgy\",\n",
    "            \"bldg_cls_p\",\n",
    "            \"bldg_cls_s\",\n",
    "            \"tax_cls_p\",\n",
    "            \"tax_cls_s\",\n",
    "            \"tot_unit\",\n",
    "            \"year\",\n",
    "        ],\n",
    "        axis=1,\n",
    "    )\n",
    "    # One hot encode Building Class Category\n",
    "    # df = pd.concat([df, pd.get_dummies(df[\"bldg_cls_p\"])], axis=1)\n",
    "    # df.drop([\"bldg_cls_p\"], axis=1, inplace=True)\n",
    "    return df"
   ]
  },
  {
   "cell_type": "markdown",
   "metadata": {},
   "source": [
    "# Regression"
   ]
  },
  {
   "cell_type": "code",
   "execution_count": null,
   "metadata": {},
   "outputs": [],
   "source": [
    "df_reg = regression_data_cleaning(df)"
   ]
  },
  {
   "cell_type": "markdown",
   "metadata": {},
   "source": [
    "## Correlations"
   ]
  },
  {
   "cell_type": "code",
   "execution_count": null,
   "metadata": {},
   "outputs": [],
   "source": [
    "corr = df_reg.corr()\n",
    "corr.style.background_gradient(cmap=\"coolwarm\", axis=None)"
   ]
  },
  {
   "cell_type": "markdown",
   "metadata": {},
   "source": [
    "## Split into Training and Testing data"
   ]
  },
  {
   "cell_type": "code",
   "execution_count": null,
   "metadata": {},
   "outputs": [],
   "source": [
    "y = df_reg.pop(\"price\")\n",
    "X = df_reg\n",
    "X_train, X_test, y_train, y_test = train_test_split(\n",
    "    X, y, test_size=0.20, random_state=40\n",
    ")"
   ]
  },
  {
   "cell_type": "markdown",
   "metadata": {},
   "source": [
    "## Regression Models"
   ]
  },
  {
   "cell_type": "markdown",
   "metadata": {},
   "source": [
    "### Lasso Regression"
   ]
  },
  {
   "cell_type": "code",
   "execution_count": null,
   "metadata": {},
   "outputs": [],
   "source": [
    "def lasso_regression(X_train, y_train, X_test, y_test):\n",
    "    \"\"\"\n",
    "    Perfomring a lasso regression with built in CV and plotting the feature importance\n",
    "    \"\"\"\n",
    "    # Fit the ridge regression\n",
    "    reg = LassoCV()\n",
    "    reg.fit(X_train, y_train)\n",
    "    print(\"Best alpha using built-in LassoCV: %f\" % reg.alpha_)\n",
    "    print(\"Best score using built-in LassoCV: %f\" % reg.score(X_train, y_train))\n",
    "    coef = pd.Series(reg.coef_, index=X_train.columns)\n",
    "    print(\n",
    "        \"Lasso picked \"\n",
    "        + str(sum(coef != 0))\n",
    "        + \" variables and eliminated the other \"\n",
    "        + str(sum(coef == 0))\n",
    "        + \" variables\"\n",
    "    )\n",
    "    # Extract the feature importance\n",
    "    imp_coef = coef.sort_values()\n",
    "    # Plot the feature importance\n",
    "    plt.rcParams[\"figure.figsize\"] = (8.0, 10.0)\n",
    "    imp_coef.plot(kind=\"barh\")\n",
    "    plt.title(\"Feature importance using Lasso Model\")\n",
    "    # Using the test data to calculate a score\n",
    "    y_pred = reg.predict(X_test)\n",
    "    print(\"Score on test data: \", reg.score(X_test, y_test))"
   ]
  },
  {
   "cell_type": "code",
   "execution_count": null,
   "metadata": {},
   "outputs": [],
   "source": [
    "# Run the regression\n",
    "lasso_regression(X_train, y_train, X_test, y_test)"
   ]
  },
  {
   "cell_type": "code",
   "execution_count": null,
   "metadata": {},
   "outputs": [],
   "source": []
  }
 ],
 "metadata": {
  "kernelspec": {
   "display_name": "Python 3",
   "language": "python",
   "name": "python3"
  },
  "language_info": {
   "codemirror_mode": {
    "name": "ipython",
    "version": 3
   },
   "file_extension": ".py",
   "mimetype": "text/x-python",
   "name": "python",
   "nbconvert_exporter": "python",
   "pygments_lexer": "ipython3",
   "version": "3.7.3"
  },
  "toc": {
   "base_numbering": 1,
   "nav_menu": {},
   "number_sections": true,
   "sideBar": true,
   "skip_h1_title": false,
   "title_cell": "Table of Contents",
   "title_sidebar": "Contents",
   "toc_cell": false,
   "toc_position": {},
   "toc_section_display": true,
   "toc_window_display": false
  }
 },
 "nbformat": 4,
 "nbformat_minor": 2
}
